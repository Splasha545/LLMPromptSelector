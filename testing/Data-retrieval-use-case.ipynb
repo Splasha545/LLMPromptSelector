{
 "cells": [
  {
   "cell_type": "code",
   "execution_count": 1,
   "id": "57da7b08",
   "metadata": {},
   "outputs": [],
   "source": [
    "import os\n",
    "from getpass import getpass"
   ]
  },
  {
   "cell_type": "code",
   "execution_count": 2,
   "id": "f55b23a6",
   "metadata": {},
   "outputs": [],
   "source": [
    "from langchain.llms import OpenAI\n",
    "from langchain.chat_models import ChatOpenAI\n",
    "from langchain.chains import LLMChain\n",
    "from langchain import PromptTemplate"
   ]
  },
  {
   "cell_type": "code",
   "execution_count": 16,
   "id": "8fd71fe4",
   "metadata": {},
   "outputs": [],
   "source": [
    "from langchain.embeddings.openai import OpenAIEmbeddings\n",
    "from langchain.vectorstores import Weaviate\n",
    "from langchain.document_loaders import CSVLoader\n",
    "from langchain.text_splitter import CharacterTextSplitter\n",
    "from langchain.chains import RetrievalQA"
   ]
  },
  {
   "cell_type": "code",
   "execution_count": 4,
   "id": "79655b0e",
   "metadata": {},
   "outputs": [
    {
     "name": "stdout",
     "output_type": "stream",
     "text": [
      "········\n"
     ]
    }
   ],
   "source": [
    "os.environ[\"OPENAI_API_KEY\"] = getpass()\n",
    "\n",
    "WEAVIATE_URL = \"https://document-vectorstore-ui5n0nz7.weaviate.network\"\n",
    "\n",
    "embeddings = OpenAIEmbeddings()"
   ]
  },
  {
   "cell_type": "code",
   "execution_count": 20,
   "id": "d198616b",
   "metadata": {},
   "outputs": [],
   "source": [
    "# Load University FAQ data\n",
    "loader = CSVLoader(\"./UniFAQdata.csv\")\n",
    "documents = loader.load()"
   ]
  },
  {
   "cell_type": "code",
   "execution_count": 12,
   "id": "897b15ed",
   "metadata": {},
   "outputs": [],
   "source": [
    "# Split the data into chunks for vectorising\n",
    "text_splitter = CharacterTextSplitter(chunk_size=200, chunk_overlap=50)\n",
    "docs = text_splitter.split_documents(documents)"
   ]
  },
  {
   "cell_type": "code",
   "execution_count": 13,
   "id": "3d5a97ff",
   "metadata": {},
   "outputs": [],
   "source": [
    "# Create a vectorstore of the data\n",
    "db = Weaviate.from_documents(docs, embeddings, weaviate_url=WEAVIATE_URL, by_text=False)"
   ]
  },
  {
   "cell_type": "code",
   "execution_count": 14,
   "id": "9b474fbb",
   "metadata": {},
   "outputs": [
    {
     "data": {
      "text/plain": [
       "[Document(page_content='\\ufeffQuestion: How can I pay my fees?\\nAnswer: You can pay your fees online by credit or debit card, by bank transfer, by cheque or by recurring card payment. For more details, please visit https://www.ed.ac.uk/finance/students/how-to-pay', metadata={'row': 0, 'source': './UniFAQdata.csv'}),\n",
       " Document(page_content='\\ufeffQuestion: I am a parent and wish to pay my child’s fees\\nAnswer: If you are a parent and wish to pay your child’s fees, you can do so online by credit or debit card, by bank transfer, by cheque or by recurring card payment. You will need to quote your child’s student number and invoice number when making a payment. You can also request a copy of your child’s invoice by contacting the Fees Team at fees@ed.ac.uk with your child’s consent. For more information, please visit https://www.ed.ac.uk/finance/students/how-to-pay/parents-paying-fees', metadata={'row': 29, 'source': './UniFAQdata.csv'}),\n",
       " Document(page_content='\\ufeffQuestion: Can I pay student fees in advance?\\nAnswer: Yes, you can pay student fees in advance by making a payment online or by bank transfer. You will need to quote your student number and invoice number when making a payment. For more information, please visit https://www.ed.ac.uk/finance/students/how-to-pay/pay-in-advance', metadata={'row': 11, 'source': './UniFAQdata.csv'}),\n",
       " Document(page_content='\\ufeffQuestion: I have a valid reason for not paying fees, what should I do next?\\nAnswer: If you have a valid reason for not paying fees, such as financial hardship, illness or personal circumstances, you should contact the Fees Team at fees@ed.ac.uk as soon as possible and explain your situation. The Fees Team will advise you on the options available to you, such as deferring your payment, applying for a fee waiver or requesting a refund. You may also be eligible for financial support from the University or external sources. For more information, please visit https://www.ed.ac.uk/finance/students/faqs#DefaultingonPayments', metadata={'row': 30, 'source': './UniFAQdata.csv'})]"
      ]
     },
     "execution_count": 14,
     "metadata": {},
     "output_type": "execute_result"
    }
   ],
   "source": [
    "# Retrieve top 4 relevant data chunks to provided query\n",
    "query = \"How do I pay my fees?\"\n",
    "docs = db.similarity_search(query, k=4)\n",
    "docs"
   ]
  },
  {
   "cell_type": "code",
   "execution_count": 17,
   "id": "baa53142",
   "metadata": {},
   "outputs": [],
   "source": [
    "# Define a LLM and a Question-Answer model using the LLM\n",
    "llm = ChatOpenAI(\n",
    "    model_name='gpt-3.5-turbo',\n",
    "    temperature=0.8, \n",
    "    verbose=True\n",
    ")\n",
    "\n",
    "qa = RetrievalQA.from_chain_type(\n",
    "        llm=llm,\n",
    "        chain_type=\"stuff\",\n",
    "        retriever=db.as_retriever(),\n",
    "    )"
   ]
  },
  {
   "cell_type": "code",
   "execution_count": 18,
   "id": "8a99e13f",
   "metadata": {},
   "outputs": [
    {
     "data": {
      "text/plain": [
       "'You can pay your fees online by credit or debit card, by bank transfer, by cheque, or by recurring card payment. For more details, please visit https://www.ed.ac.uk/finance/students/how-to-pay.'"
      ]
     },
     "execution_count": 18,
     "metadata": {},
     "output_type": "execute_result"
    }
   ],
   "source": [
    "qa.run(\"How do I pay my fees?\")"
   ]
  },
  {
   "cell_type": "code",
   "execution_count": 19,
   "id": "690bd518",
   "metadata": {},
   "outputs": [
    {
     "data": {
      "text/plain": [
       "\"If you haven't received an invoice for your fees, you should first check your email address and spam folder for any emails from noreply@ed.ac.uk. Additionally, you can check your balance online on MyEd to see if an invoice has been generated for you. If you still haven't received an invoice for your fees, I recommend contacting the Fees Team at fees@ed.ac.uk with your student number and course details. They will be able to assist you further. For more information, you can also visit https://www.ed.ac.uk/finance/students/faqs#FeesandInvoices.\""
      ]
     },
     "execution_count": 19,
     "metadata": {},
     "output_type": "execute_result"
    }
   ],
   "source": [
    "qa.run(\"Ive still not recieved an invoice for my fees. What should I do?\")"
   ]
  }
 ],
 "metadata": {
  "kernelspec": {
   "display_name": "Python 3 (ipykernel)",
   "language": "python",
   "name": "python3"
  },
  "language_info": {
   "codemirror_mode": {
    "name": "ipython",
    "version": 3
   },
   "file_extension": ".py",
   "mimetype": "text/x-python",
   "name": "python",
   "nbconvert_exporter": "python",
   "pygments_lexer": "ipython3",
   "version": "3.9.13"
  }
 },
 "nbformat": 4,
 "nbformat_minor": 5
}
